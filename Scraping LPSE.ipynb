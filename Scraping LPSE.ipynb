{
 "cells": [
  {
   "cell_type": "code",
   "execution_count": 39,
   "metadata": {},
   "outputs": [],
   "source": [
    "session = 'f5avraaaaaaaaaaaaaaaa_session_=KPJGMICACKBBCDHGPFGCGDEJFEBIIGCKJNNOLHNDNDGPOAIPMNBMFDPHMKNGKLCPGCKDFLKHKDKGOENHJGJAAEBFGHNEGHLANMHIDFMAICPGDHHDNNCDBCKOMIEHDHLJ; SPSE_SESSION=58e821f1ff50b5c7667e296329bceb7201d9f600-___AT=d7adc7c61b59fc1e4e1e8a821648b3c914f41cfc&___TS=1577286372780&___ID=b5ba7009-93f5-46a4-9451-96a8969702ee; f5avraaaaaaaaaaaaaaaa_session_=NOMDHPLNIFLELCEPJGPJDPNOEKLEELPLNJLKNIEFKCJCFHGLMHLMFCBLHHGNIIJOPHJDNFEFFDKINJGBPJOAPIHEHHICAADPGAJDINICACEFJKNDPPHFBIAJAHGIPPOE; lkpp.go.id=!VgO5Idx2GAccYeprns/TiaZjhjXxGadYiUYJZbFmHKpqBD0e3i/YaJssg4XmrSFhY8lwHoa2SroQIw=='"
   ]
  },
  {
   "cell_type": "code",
   "execution_count": 17,
   "metadata": {},
   "outputs": [],
   "source": [
    "import requests as ses\n",
    "import json\n",
    "import pandas as pd\n",
    "from pandas.io.json._normalize import json_normalize"
   ]
  },
  {
   "cell_type": "code",
   "execution_count": 40,
   "metadata": {},
   "outputs": [
    {
     "name": "stderr",
     "output_type": "stream",
     "text": [
      "d:\\anaconda3b\\envs\\python-dl\\lib\\site-packages\\urllib3\\connectionpool.py:1004: InsecureRequestWarning: Unverified HTTPS request is being made. Adding certificate verification is strongly advised. See: https://urllib3.readthedocs.io/en/latest/advanced-usage.html#ssl-warnings\n",
      "  InsecureRequestWarning,\n"
     ]
    }
   ],
   "source": [
    "url_string ='https://lpse.lkpp.go.id/eproc4/dt/lelang?draw=1&columns%5B0%5D%5Bdata%5D=0&columns%5B0%5D%5Bname%5D=&columns%5B0%5D%5Bsearchable%5D=true&columns%5B0%5D%5Borderable%5D=true&columns%5B0%5D%5Bsearch%5D%5Bvalue%5D=&columns%5B0%5D%5Bsearch%5D%5Bregex%5D=false&columns%5B1%5D%5Bdata%5D=1&columns%5B1%5D%5Bname%5D=&columns%5B1%5D%5Bsearchable%5D=true&columns%5B1%5D%5Borderable%5D=true&columns%5B1%5D%5Bsearch%5D%5Bvalue%5D=&columns%5B1%5D%5Bsearch%5D%5Bregex%5D=false&columns%5B2%5D%5Bdata%5D=2&columns%5B2%5D%5Bname%5D=&columns%5B2%5D%5Bsearchable%5D=true&columns%5B2%5D%5Borderable%5D=true&columns%5B2%5D%5Bsearch%5D%5Bvalue%5D=&columns%5B2%5D%5Bsearch%5D%5Bregex%5D=false&columns%5B3%5D%5Bdata%5D=3&columns%5B3%5D%5Bname%5D=&columns%5B3%5D%5Bsearchable%5D=false&columns%5B3%5D%5Borderable%5D=false&columns%5B3%5D%5Bsearch%5D%5Bvalue%5D=&columns%5B3%5D%5Bsearch%5D%5Bregex%5D=false&columns%5B4%5D%5Bdata%5D=4&columns%5B4%5D%5Bname%5D=&columns%5B4%5D%5Bsearchable%5D=true&columns%5B4%5D%5Borderable%5D=true&columns%5B4%5D%5Bsearch%5D%5Bvalue%5D=&columns%5B4%5D%5Bsearch%5D%5Bregex%5D=false&order%5B0%5D%5Bcolumn%5D=0&order%5B0%5D%5Bdir%5D=desc&start=0&length=3450&search%5Bvalue%5D=&search%5Bregex%5D=false&authenticityToken=d7adc7c61b59fc1e4e1e8a821648b3c914f41cfc&_=1577284575243'\n",
    "#print(url_string)\n",
    "    \n",
    "headers = {\n",
    "    'User-Agent': 'Mozilla/5.0 (Windows NT 6.1; Win64; x64; rv:71.0) Gecko/20100101 Firefox/71.0',\n",
    "    'Cookie':session\n",
    "          }\n",
    "resp = ses.get(url_string, headers=headers, verify=False)\n",
    "#print(resp.content)\n",
    "data = json.loads(resp.content)\n",
    "\n",
    "#df.to_csv('sirup2.csv',index = False,mode='a', header=False)\n",
    "    "
   ]
  },
  {
   "cell_type": "code",
   "execution_count": 41,
   "metadata": {},
   "outputs": [
    {
     "data": {
      "text/plain": [
       "3450"
      ]
     },
     "execution_count": 41,
     "metadata": {},
     "output_type": "execute_result"
    }
   ],
   "source": [
    "len(data['data'])"
   ]
  },
  {
   "cell_type": "code",
   "execution_count": 47,
   "metadata": {},
   "outputs": [],
   "source": [
    "df = pd.DataFrame(data=data['data'], index=None, columns=None, dtype=None, copy=False)\n",
    "df.to_csv('LPSE LKPP.csv',index = False,mode='a', header=False)\n",
    "    "
   ]
  },
  {
   "cell_type": "code",
   "execution_count": null,
   "metadata": {},
   "outputs": [],
   "source": []
  }
 ],
 "metadata": {
  "kernelspec": {
   "display_name": "Python 3",
   "language": "python",
   "name": "python3"
  },
  "language_info": {
   "codemirror_mode": {
    "name": "ipython",
    "version": 3
   },
   "file_extension": ".py",
   "mimetype": "text/x-python",
   "name": "python",
   "nbconvert_exporter": "python",
   "pygments_lexer": "ipython3",
   "version": "3.7.5"
  }
 },
 "nbformat": 4,
 "nbformat_minor": 2
}
