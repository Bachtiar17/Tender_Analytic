{
 "cells": [
  {
   "cell_type": "code",
   "execution_count": 117,
   "metadata": {
    "collapsed": true
   },
   "outputs": [
    {
     "name": "stdout",
     "output_type": "stream",
     "text": [
      "100000\n"
     ]
    },
    {
     "name": "stderr",
     "output_type": "stream",
     "text": [
      "d:\\anaconda3b\\envs\\python-dl\\lib\\site-packages\\urllib3\\connectionpool.py:1004: InsecureRequestWarning: Unverified HTTPS request is being made. Adding certificate verification is strongly advised. See: https://urllib3.readthedocs.io/en/latest/advanced-usage.html#ssl-warnings\n",
      "  InsecureRequestWarning,\n"
     ]
    },
    {
     "name": "stdout",
     "output_type": "stream",
     "text": [
      "200000\n"
     ]
    },
    {
     "name": "stderr",
     "output_type": "stream",
     "text": [
      "d:\\anaconda3b\\envs\\python-dl\\lib\\site-packages\\urllib3\\connectionpool.py:1004: InsecureRequestWarning: Unverified HTTPS request is being made. Adding certificate verification is strongly advised. See: https://urllib3.readthedocs.io/en/latest/advanced-usage.html#ssl-warnings\n",
      "  InsecureRequestWarning,\n"
     ]
    },
    {
     "name": "stdout",
     "output_type": "stream",
     "text": [
      "300000\n"
     ]
    },
    {
     "name": "stderr",
     "output_type": "stream",
     "text": [
      "d:\\anaconda3b\\envs\\python-dl\\lib\\site-packages\\urllib3\\connectionpool.py:1004: InsecureRequestWarning: Unverified HTTPS request is being made. Adding certificate verification is strongly advised. See: https://urllib3.readthedocs.io/en/latest/advanced-usage.html#ssl-warnings\n",
      "  InsecureRequestWarning,\n"
     ]
    },
    {
     "name": "stdout",
     "output_type": "stream",
     "text": [
      "400000\n"
     ]
    },
    {
     "name": "stderr",
     "output_type": "stream",
     "text": [
      "d:\\anaconda3b\\envs\\python-dl\\lib\\site-packages\\urllib3\\connectionpool.py:1004: InsecureRequestWarning: Unverified HTTPS request is being made. Adding certificate verification is strongly advised. See: https://urllib3.readthedocs.io/en/latest/advanced-usage.html#ssl-warnings\n",
      "  InsecureRequestWarning,\n"
     ]
    },
    {
     "name": "stdout",
     "output_type": "stream",
     "text": [
      "500000\n"
     ]
    },
    {
     "name": "stderr",
     "output_type": "stream",
     "text": [
      "d:\\anaconda3b\\envs\\python-dl\\lib\\site-packages\\urllib3\\connectionpool.py:1004: InsecureRequestWarning: Unverified HTTPS request is being made. Adding certificate verification is strongly advised. See: https://urllib3.readthedocs.io/en/latest/advanced-usage.html#ssl-warnings\n",
      "  InsecureRequestWarning,\n"
     ]
    },
    {
     "ename": "JSONDecodeError",
     "evalue": "Expecting value: line 1 column 1 (char 0)",
     "output_type": "error",
     "traceback": [
      "\u001b[1;31m---------------------------------------------------------------------------\u001b[0m",
      "\u001b[1;31mJSONDecodeError\u001b[0m                           Traceback (most recent call last)",
      "\u001b[1;32m<ipython-input-117-42be6fb0b2f9>\u001b[0m in \u001b[0;36m<module>\u001b[1;34m\u001b[0m\n\u001b[0;32m     11\u001b[0m     \u001b[0mstart\u001b[0m \u001b[1;33m=\u001b[0m \u001b[0mstart\u001b[0m\u001b[1;33m+\u001b[0m\u001b[0mlength\u001b[0m\u001b[1;33m\u001b[0m\u001b[1;33m\u001b[0m\u001b[0m\n\u001b[0;32m     12\u001b[0m \u001b[1;33m\u001b[0m\u001b[0m\n\u001b[1;32m---> 13\u001b[1;33m     \u001b[0mdata\u001b[0m \u001b[1;33m=\u001b[0m \u001b[0mjson\u001b[0m\u001b[1;33m.\u001b[0m\u001b[0mloads\u001b[0m\u001b[1;33m(\u001b[0m\u001b[0mresp\u001b[0m\u001b[1;33m.\u001b[0m\u001b[0mcontent\u001b[0m\u001b[1;33m)\u001b[0m\u001b[1;33m\u001b[0m\u001b[1;33m\u001b[0m\u001b[0m\n\u001b[0m\u001b[0;32m     14\u001b[0m     \u001b[0mdf\u001b[0m \u001b[1;33m=\u001b[0m \u001b[0mjson_normalize\u001b[0m\u001b[1;33m(\u001b[0m\u001b[0mdata\u001b[0m\u001b[1;33m[\u001b[0m\u001b[1;34m'data'\u001b[0m\u001b[1;33m]\u001b[0m\u001b[1;33m)\u001b[0m\u001b[1;33m\u001b[0m\u001b[1;33m\u001b[0m\u001b[0m\n\u001b[0;32m     15\u001b[0m     \u001b[0mdf\u001b[0m\u001b[1;33m.\u001b[0m\u001b[0mto_csv\u001b[0m\u001b[1;33m(\u001b[0m\u001b[1;34m'sirup2.csv'\u001b[0m\u001b[1;33m,\u001b[0m\u001b[0mindex\u001b[0m \u001b[1;33m=\u001b[0m \u001b[1;32mFalse\u001b[0m\u001b[1;33m,\u001b[0m\u001b[0mmode\u001b[0m\u001b[1;33m=\u001b[0m\u001b[1;34m'a'\u001b[0m\u001b[1;33m,\u001b[0m \u001b[0mheader\u001b[0m\u001b[1;33m=\u001b[0m\u001b[1;32mFalse\u001b[0m\u001b[1;33m)\u001b[0m\u001b[1;33m\u001b[0m\u001b[1;33m\u001b[0m\u001b[0m\n",
      "\u001b[1;32md:\\anaconda3b\\envs\\python-dl\\lib\\json\\__init__.py\u001b[0m in \u001b[0;36mloads\u001b[1;34m(s, encoding, cls, object_hook, parse_float, parse_int, parse_constant, object_pairs_hook, **kw)\u001b[0m\n\u001b[0;32m    346\u001b[0m             \u001b[0mparse_int\u001b[0m \u001b[1;32mis\u001b[0m \u001b[1;32mNone\u001b[0m \u001b[1;32mand\u001b[0m \u001b[0mparse_float\u001b[0m \u001b[1;32mis\u001b[0m \u001b[1;32mNone\u001b[0m \u001b[1;32mand\u001b[0m\u001b[1;33m\u001b[0m\u001b[1;33m\u001b[0m\u001b[0m\n\u001b[0;32m    347\u001b[0m             parse_constant is None and object_pairs_hook is None and not kw):\n\u001b[1;32m--> 348\u001b[1;33m         \u001b[1;32mreturn\u001b[0m \u001b[0m_default_decoder\u001b[0m\u001b[1;33m.\u001b[0m\u001b[0mdecode\u001b[0m\u001b[1;33m(\u001b[0m\u001b[0ms\u001b[0m\u001b[1;33m)\u001b[0m\u001b[1;33m\u001b[0m\u001b[1;33m\u001b[0m\u001b[0m\n\u001b[0m\u001b[0;32m    349\u001b[0m     \u001b[1;32mif\u001b[0m \u001b[0mcls\u001b[0m \u001b[1;32mis\u001b[0m \u001b[1;32mNone\u001b[0m\u001b[1;33m:\u001b[0m\u001b[1;33m\u001b[0m\u001b[1;33m\u001b[0m\u001b[0m\n\u001b[0;32m    350\u001b[0m         \u001b[0mcls\u001b[0m \u001b[1;33m=\u001b[0m \u001b[0mJSONDecoder\u001b[0m\u001b[1;33m\u001b[0m\u001b[1;33m\u001b[0m\u001b[0m\n",
      "\u001b[1;32md:\\anaconda3b\\envs\\python-dl\\lib\\json\\decoder.py\u001b[0m in \u001b[0;36mdecode\u001b[1;34m(self, s, _w)\u001b[0m\n\u001b[0;32m    335\u001b[0m \u001b[1;33m\u001b[0m\u001b[0m\n\u001b[0;32m    336\u001b[0m         \"\"\"\n\u001b[1;32m--> 337\u001b[1;33m         \u001b[0mobj\u001b[0m\u001b[1;33m,\u001b[0m \u001b[0mend\u001b[0m \u001b[1;33m=\u001b[0m \u001b[0mself\u001b[0m\u001b[1;33m.\u001b[0m\u001b[0mraw_decode\u001b[0m\u001b[1;33m(\u001b[0m\u001b[0ms\u001b[0m\u001b[1;33m,\u001b[0m \u001b[0midx\u001b[0m\u001b[1;33m=\u001b[0m\u001b[0m_w\u001b[0m\u001b[1;33m(\u001b[0m\u001b[0ms\u001b[0m\u001b[1;33m,\u001b[0m \u001b[1;36m0\u001b[0m\u001b[1;33m)\u001b[0m\u001b[1;33m.\u001b[0m\u001b[0mend\u001b[0m\u001b[1;33m(\u001b[0m\u001b[1;33m)\u001b[0m\u001b[1;33m)\u001b[0m\u001b[1;33m\u001b[0m\u001b[1;33m\u001b[0m\u001b[0m\n\u001b[0m\u001b[0;32m    338\u001b[0m         \u001b[0mend\u001b[0m \u001b[1;33m=\u001b[0m \u001b[0m_w\u001b[0m\u001b[1;33m(\u001b[0m\u001b[0ms\u001b[0m\u001b[1;33m,\u001b[0m \u001b[0mend\u001b[0m\u001b[1;33m)\u001b[0m\u001b[1;33m.\u001b[0m\u001b[0mend\u001b[0m\u001b[1;33m(\u001b[0m\u001b[1;33m)\u001b[0m\u001b[1;33m\u001b[0m\u001b[1;33m\u001b[0m\u001b[0m\n\u001b[0;32m    339\u001b[0m         \u001b[1;32mif\u001b[0m \u001b[0mend\u001b[0m \u001b[1;33m!=\u001b[0m \u001b[0mlen\u001b[0m\u001b[1;33m(\u001b[0m\u001b[0ms\u001b[0m\u001b[1;33m)\u001b[0m\u001b[1;33m:\u001b[0m\u001b[1;33m\u001b[0m\u001b[1;33m\u001b[0m\u001b[0m\n",
      "\u001b[1;32md:\\anaconda3b\\envs\\python-dl\\lib\\json\\decoder.py\u001b[0m in \u001b[0;36mraw_decode\u001b[1;34m(self, s, idx)\u001b[0m\n\u001b[0;32m    353\u001b[0m             \u001b[0mobj\u001b[0m\u001b[1;33m,\u001b[0m \u001b[0mend\u001b[0m \u001b[1;33m=\u001b[0m \u001b[0mself\u001b[0m\u001b[1;33m.\u001b[0m\u001b[0mscan_once\u001b[0m\u001b[1;33m(\u001b[0m\u001b[0ms\u001b[0m\u001b[1;33m,\u001b[0m \u001b[0midx\u001b[0m\u001b[1;33m)\u001b[0m\u001b[1;33m\u001b[0m\u001b[1;33m\u001b[0m\u001b[0m\n\u001b[0;32m    354\u001b[0m         \u001b[1;32mexcept\u001b[0m \u001b[0mStopIteration\u001b[0m \u001b[1;32mas\u001b[0m \u001b[0merr\u001b[0m\u001b[1;33m:\u001b[0m\u001b[1;33m\u001b[0m\u001b[1;33m\u001b[0m\u001b[0m\n\u001b[1;32m--> 355\u001b[1;33m             \u001b[1;32mraise\u001b[0m \u001b[0mJSONDecodeError\u001b[0m\u001b[1;33m(\u001b[0m\u001b[1;34m\"Expecting value\"\u001b[0m\u001b[1;33m,\u001b[0m \u001b[0ms\u001b[0m\u001b[1;33m,\u001b[0m \u001b[0merr\u001b[0m\u001b[1;33m.\u001b[0m\u001b[0mvalue\u001b[0m\u001b[1;33m)\u001b[0m \u001b[1;32mfrom\u001b[0m \u001b[1;32mNone\u001b[0m\u001b[1;33m\u001b[0m\u001b[1;33m\u001b[0m\u001b[0m\n\u001b[0m\u001b[0;32m    356\u001b[0m         \u001b[1;32mreturn\u001b[0m \u001b[0mobj\u001b[0m\u001b[1;33m,\u001b[0m \u001b[0mend\u001b[0m\u001b[1;33m\u001b[0m\u001b[1;33m\u001b[0m\u001b[0m\n",
      "\u001b[1;31mJSONDecodeError\u001b[0m: Expecting value: line 1 column 1 (char 0)"
     ]
    }
   ],
   "source": [
    "start =0\n",
    "for itr in range(1,17):\n",
    "    length = itr*100000\n",
    "    url_string ='https://sirup.lkpp.go.id/sirup/pencarianctr/search?tahunAnggaran=2019&keyword=&jenisPengadaan=0&metodePengadaan=0&draw=1&columns%5B0%5D%5Bdata%5D=&columns%5B0%5D%5Bname%5D=&columns%5B0%5D%5Bsearchable%5D=false&columns%5B0%5D%5Borderable%5D=false&columns%5B0%5D%5Bsearch%5D%5Bvalue%5D=&columns%5B0%5D%5Bsearch%5D%5Bregex%5D=false&columns%5B1%5D%5Bdata%5D=nama&columns%5B1%5D%5Bname%5D=&columns%5B1%5D%5Bsearchable%5D=true&columns%5B1%5D%5Borderable%5D=true&columns%5B1%5D%5Bsearch%5D%5Bvalue%5D=&columns%5B1%5D%5Bsearch%5D%5Bregex%5D=false&columns%5B2%5D%5Bdata%5D=pagu&columns%5B2%5D%5Bname%5D=&columns%5B2%5D%5Bsearchable%5D=true&columns%5B2%5D%5Borderable%5D=true&columns%5B2%5D%5Bsearch%5D%5Bvalue%5D=&columns%5B2%5D%5Bsearch%5D%5Bregex%5D=false&columns%5B3%5D%5Bdata%5D=jenis&columns%5B3%5D%5Bname%5D=&columns%5B3%5D%5Bsearchable%5D=true&columns%5B3%5D%5Borderable%5D=true&columns%5B3%5D%5Bsearch%5D%5Bvalue%5D=&columns%5B3%5D%5Bsearch%5D%5Bregex%5D=false&columns%5B4%5D%5Bdata%5D=metode&columns%5B4%5D%5Bname%5D=&columns%5B4%5D%5Bsearchable%5D=true&columns%5B4%5D%5Borderable%5D=true&columns%5B4%5D%5Bsearch%5D%5Bvalue%5D=&columns%5B4%5D%5Bsearch%5D%5Bregex%5D=false&columns%5B5%5D%5Bdata%5D=waktu&columns%5B5%5D%5Bname%5D=&columns%5B5%5D%5Bsearchable%5D=true&columns%5B5%5D%5Borderable%5D=true&columns%5B5%5D%5Bsearch%5D%5Bvalue%5D=&columns%5B5%5D%5Bsearch%5D%5Bregex%5D=false&columns%5B6%5D%5Bdata%5D=kldi&columns%5B6%5D%5Bname%5D=&columns%5B6%5D%5Bsearchable%5D=true&columns%5B6%5D%5Borderable%5D=true&columns%5B6%5D%5Bsearch%5D%5Bvalue%5D=&columns%5B6%5D%5Bsearch%5D%5Bregex%5D=false&columns%5B7%5D%5Bdata%5D=satuan_kerja&columns%5B7%5D%5Bname%5D=&columns%5B7%5D%5Bsearchable%5D=true&columns%5B7%5D%5Borderable%5D=true&columns%5B7%5D%5Bsearch%5D%5Bvalue%5D=&columns%5B7%5D%5Bsearch%5D%5Bregex%5D=false&columns%5B8%5D%5Bdata%5D=lokasi&columns%5B8%5D%5Bname%5D=&columns%5B8%5D%5Bsearchable%5D=true&columns%5B8%5D%5Borderable%5D=true&columns%5B8%5D%5Bsearch%5D%5Bvalue%5D=&columns%5B8%5D%5Bsearch%5D%5Bregex%5D=false&columns%5B9%5D%5Bdata%5D=id&columns%5B9%5D%5Bname%5D=&columns%5B9%5D%5Bsearchable%5D=true&columns%5B9%5D%5Borderable%5D=true&columns%5B9%5D%5Bsearch%5D%5Bvalue%5D=&columns%5B9%5D%5Bsearch%5D%5Bregex%5D=false&order%5B0%5D%5Bcolumn%5D=5&order%5B0%5D%5Bdir%5D=DESC&start='+str(start)+'&length='+str(length)+'&search%5Bvalue%5D=&search%5Bregex%5D=false&_=1577104519044'\n",
    "    url_string ='https://sirup.lkpp.go.id/sirup/pencarianctr/search?tahunAnggaran=2019&keyword=&jenisPengadaan=0&metodePengadaan=0&draw=1&columns%5B0%5D%5Bdata%5D=&columns%5B0%5D%5Bname%5D=&columns%5B0%5D%5Bsearchable%5D=false&columns%5B0%5D%5Borderable%5D=false&columns%5B0%5D%5Bsearch%5D%5Bvalue%5D=&columns%5B0%5D%5Bsearch%5D%5Bregex%5D=false&columns%5B1%5D%5Bdata%5D=nama&columns%5B1%5D%5Bname%5D=&columns%5B1%5D%5Bsearchable%5D=true&columns%5B1%5D%5Borderable%5D=true&columns%5B1%5D%5Bsearch%5D%5Bvalue%5D=&columns%5B1%5D%5Bsearch%5D%5Bregex%5D=false&columns%5B2%5D%5Bdata%5D=pagu&columns%5B2%5D%5Bname%5D=&columns%5B2%5D%5Bsearchable%5D=true&columns%5B2%5D%5Borderable%5D=true&columns%5B2%5D%5Bsearch%5D%5Bvalue%5D=&columns%5B2%5D%5Bsearch%5D%5Bregex%5D=false&columns%5B3%5D%5Bdata%5D=jenis&columns%5B3%5D%5Bname%5D=&columns%5B3%5D%5Bsearchable%5D=true&columns%5B3%5D%5Borderable%5D=true&columns%5B3%5D%5Bsearch%5D%5Bvalue%5D=&columns%5B3%5D%5Bsearch%5D%5Bregex%5D=false&columns%5B4%5D%5Bdata%5D=metode&columns%5B4%5D%5Bname%5D=&columns%5B4%5D%5Bsearchable%5D=true&columns%5B4%5D%5Borderable%5D=true&columns%5B4%5D%5Bsearch%5D%5Bvalue%5D=&columns%5B4%5D%5Bsearch%5D%5Bregex%5D=false&columns%5B5%5D%5Bdata%5D=waktu&columns%5B5%5D%5Bname%5D=&columns%5B5%5D%5Bsearchable%5D=true&columns%5B5%5D%5Borderable%5D=true&columns%5B5%5D%5Bsearch%5D%5Bvalue%5D=&columns%5B5%5D%5Bsearch%5D%5Bregex%5D=false&columns%5B6%5D%5Bdata%5D=kldi&columns%5B6%5D%5Bname%5D=&columns%5B6%5D%5Bsearchable%5D=true&columns%5B6%5D%5Borderable%5D=true&columns%5B6%5D%5Bsearch%5D%5Bvalue%5D=&columns%5B6%5D%5Bsearch%5D%5Bregex%5D=false&columns%5B7%5D%5Bdata%5D=satuan_kerja&columns%5B7%5D%5Bname%5D=&columns%5B7%5D%5Bsearchable%5D=true&columns%5B7%5D%5Borderable%5D=true&columns%5B7%5D%5Bsearch%5D%5Bvalue%5D=&columns%5B7%5D%5Bsearch%5D%5Bregex%5D=false&columns%5B8%5D%5Bdata%5D=lokasi&columns%5B8%5D%5Bname%5D=&columns%5B8%5D%5Bsearchable%5D=true&columns%5B8%5D%5Borderable%5D=true&columns%5B8%5D%5Bsearch%5D%5Bvalue%5D=&columns%5B8%5D%5Bsearch%5D%5Bregex%5D=false&columns%5B9%5D%5Bdata%5D=id&columns%5B9%5D%5Bname%5D=&columns%5B9%5D%5Bsearchable%5D=true&columns%5B9%5D%5Borderable%5D=true&columns%5B9%5D%5Bsearch%5D%5Bvalue%5D=&columns%5B9%5D%5Bsearch%5D%5Bregex%5D=false&order%5B0%5D%5Bcolumn%5D=5&order%5B0%5D%5Bdir%5D=DESC&start='+str(start)+'&length='+str(length)+'&search%5Bvalue%5D=&search%5Bregex%5D=false&_=1577108785142'\n",
    "    print(length)\n",
    "    \n",
    "    headers = {'User-Agent': 'Mozilla/5.0 (Windows NT 6.1; Win64; x64; rv:71.0) Gecko/20100101 Firefox/71.0'}\n",
    "    ses = requests.Session()\n",
    "    resp = ses.get(url_string, headers=headers, verify=False)\n",
    "    start = start+length\n",
    "    \n",
    "    data = json.loads(resp.content)\n",
    "    df = json_normalize(data['data'])\n",
    "    df.to_csv('sirup2.csv',index = False,mode='a', header=False)\n",
    "    \n"
   ]
  },
  {
   "cell_type": "code",
   "execution_count": 118,
   "metadata": {},
   "outputs": [
    {
     "data": {
      "text/plain": [
       "1500000"
      ]
     },
     "execution_count": 118,
     "metadata": {},
     "output_type": "execute_result"
    }
   ],
   "source": [
    "start"
   ]
  },
  {
   "cell_type": "code",
   "execution_count": 90,
   "metadata": {
    "collapsed": true
   },
   "outputs": [
    {
     "data": {
      "text/html": [
       "<div>\n",
       "<style scoped>\n",
       "    .dataframe tbody tr th:only-of-type {\n",
       "        vertical-align: middle;\n",
       "    }\n",
       "\n",
       "    .dataframe tbody tr th {\n",
       "        vertical-align: top;\n",
       "    }\n",
       "\n",
       "    .dataframe thead th {\n",
       "        text-align: right;\n",
       "    }\n",
       "</style>\n",
       "<table border=\"1\" class=\"dataframe\">\n",
       "  <thead>\n",
       "    <tr style=\"text-align: right;\">\n",
       "      <th></th>\n",
       "      <th>idBulan</th>\n",
       "      <th>pagu</th>\n",
       "      <th>metode</th>\n",
       "      <th>nama</th>\n",
       "      <th>kldi</th>\n",
       "      <th>lokasi</th>\n",
       "      <th>jenis</th>\n",
       "      <th>waktu</th>\n",
       "      <th>idMetode</th>\n",
       "      <th>id</th>\n",
       "      <th>idJenisPengadaan</th>\n",
       "      <th>satuan_kerja</th>\n",
       "    </tr>\n",
       "  </thead>\n",
       "  <tbody>\n",
       "    <tr>\n",
       "      <th>0</th>\n",
       "      <td>10</td>\n",
       "      <td>23000000</td>\n",
       "      <td>E-Purchasing</td>\n",
       "      <td>Pengadaan Lemari Besi Fireproof</td>\n",
       "      <td>Kementerian Keuangan</td>\n",
       "      <td>NaN</td>\n",
       "      <td>Barang</td>\n",
       "      <td>October 2023</td>\n",
       "      <td>9</td>\n",
       "      <td>22319671</td>\n",
       "      <td>1</td>\n",
       "      <td>DIREKTORAT JENDERAL PENGELOLAAN PEMBIAYAAN DAN...</td>\n",
       "    </tr>\n",
       "    <tr>\n",
       "      <th>1</th>\n",
       "      <td>4</td>\n",
       "      <td>5000000</td>\n",
       "      <td>Pengadaan Langsung</td>\n",
       "      <td>Pengadaan Kursi Pejabat</td>\n",
       "      <td>Pemerintah Daerah Kabupaten Buton Tengah</td>\n",
       "      <td>NaN</td>\n",
       "      <td>Barang</td>\n",
       "      <td>April 2023</td>\n",
       "      <td>8</td>\n",
       "      <td>20854093</td>\n",
       "      <td>1</td>\n",
       "      <td>DINAS KOMUNIKASI INFORMATIKA STATISTIK DAN PER...</td>\n",
       "    </tr>\n",
       "    <tr>\n",
       "      <th>2</th>\n",
       "      <td>1</td>\n",
       "      <td>10513000</td>\n",
       "      <td>Pengadaan Langsung</td>\n",
       "      <td>Belanja Bahan Pakai Habis</td>\n",
       "      <td>Pemerintah Daerah Kota Depok</td>\n",
       "      <td>NaN</td>\n",
       "      <td>Barang</td>\n",
       "      <td>January 2021</td>\n",
       "      <td>8</td>\n",
       "      <td>20376353</td>\n",
       "      <td>1</td>\n",
       "      <td>DINAS KETAHANAN PANGAN PERTANIAN DAN PERIKANAN</td>\n",
       "    </tr>\n",
       "    <tr>\n",
       "      <th>3</th>\n",
       "      <td>12</td>\n",
       "      <td>2000000000</td>\n",
       "      <td>Tender Cepat</td>\n",
       "      <td>Pengadaan Malware Detonation</td>\n",
       "      <td>Kementerian Hukum Dan Hak Asasi Manusia RI</td>\n",
       "      <td>NaN</td>\n",
       "      <td>Barang</td>\n",
       "      <td>December 2020</td>\n",
       "      <td>14</td>\n",
       "      <td>22726379</td>\n",
       "      <td>1</td>\n",
       "      <td>DIREKTORAT JENDERAL ADMINISTRASI HUKUM UMUM</td>\n",
       "    </tr>\n",
       "    <tr>\n",
       "      <th>4</th>\n",
       "      <td>12</td>\n",
       "      <td>250000000</td>\n",
       "      <td>Pengadaan Langsung</td>\n",
       "      <td>Belanja Smart Card PKB</td>\n",
       "      <td>Pemerintah Daerah Kabupaten Bantul</td>\n",
       "      <td>NaN</td>\n",
       "      <td>Barang</td>\n",
       "      <td>December 2020</td>\n",
       "      <td>8</td>\n",
       "      <td>22764274</td>\n",
       "      <td>1</td>\n",
       "      <td>Dinas Perhubungan</td>\n",
       "    </tr>\n",
       "    <tr>\n",
       "      <th>5</th>\n",
       "      <td>12</td>\n",
       "      <td>120000000</td>\n",
       "      <td>Pengadaan Langsung</td>\n",
       "      <td>Pengadaan Frame Acrilik Poster</td>\n",
       "      <td>Kementerian Kesehatan</td>\n",
       "      <td>NaN</td>\n",
       "      <td>Barang</td>\n",
       "      <td>December 2020</td>\n",
       "      <td>8</td>\n",
       "      <td>22867952</td>\n",
       "      <td>1</td>\n",
       "      <td>SEKRETARIAT DIREKTORAT JENDERAL PELAYANAN KESE...</td>\n",
       "    </tr>\n",
       "    <tr>\n",
       "      <th>6</th>\n",
       "      <td>11</td>\n",
       "      <td>47396910000</td>\n",
       "      <td>Tender</td>\n",
       "      <td>Pembangunan IPA Kapasitas  50 l/dt SPAM KSPN T...</td>\n",
       "      <td>Kementerian Pekerjaan Umum dan Perumahan Rakyat</td>\n",
       "      <td>Banten~Pandeglang (Kab.),</td>\n",
       "      <td>Pekerjaan Konstruksi,</td>\n",
       "      <td>November 2020</td>\n",
       "      <td>13</td>\n",
       "      <td>22742317</td>\n",
       "      <td>0</td>\n",
       "      <td>PELAKSANAAN PRASARANA PERMUKIMAN PROVINSI BANTEN</td>\n",
       "    </tr>\n",
       "    <tr>\n",
       "      <th>7</th>\n",
       "      <td>11</td>\n",
       "      <td>9810000</td>\n",
       "      <td>E-Purchasing</td>\n",
       "      <td>Belanja Modal Pengadaan Komputer</td>\n",
       "      <td>Pemerintah Daerah Provinsi D. I. Yogyakarta</td>\n",
       "      <td>NaN</td>\n",
       "      <td>Barang</td>\n",
       "      <td>November 2020</td>\n",
       "      <td>9</td>\n",
       "      <td>22599967</td>\n",
       "      <td>1</td>\n",
       "      <td>DINAS PENDIDIKAN PEMUDA DAN OLAH RAGA</td>\n",
       "    </tr>\n",
       "    <tr>\n",
       "      <th>8</th>\n",
       "      <td>11</td>\n",
       "      <td>7100000</td>\n",
       "      <td>E-Purchasing</td>\n",
       "      <td>Belanja Modal pengadaan laptop</td>\n",
       "      <td>Pemerintah Daerah Provinsi D. I. Yogyakarta</td>\n",
       "      <td>NaN</td>\n",
       "      <td>Barang</td>\n",
       "      <td>November 2020</td>\n",
       "      <td>9</td>\n",
       "      <td>22600005</td>\n",
       "      <td>1</td>\n",
       "      <td>DINAS PENDIDIKAN PEMUDA DAN OLAH RAGA</td>\n",
       "    </tr>\n",
       "    <tr>\n",
       "      <th>9</th>\n",
       "      <td>11</td>\n",
       "      <td>1100000</td>\n",
       "      <td>E-Purchasing</td>\n",
       "      <td>Belanja Modal Hardis Eksternal</td>\n",
       "      <td>Pemerintah Daerah Provinsi D. I. Yogyakarta</td>\n",
       "      <td>NaN</td>\n",
       "      <td>Barang</td>\n",
       "      <td>November 2020</td>\n",
       "      <td>9</td>\n",
       "      <td>22600070</td>\n",
       "      <td>1</td>\n",
       "      <td>DINAS PENDIDIKAN PEMUDA DAN OLAH RAGA</td>\n",
       "    </tr>\n",
       "  </tbody>\n",
       "</table>\n",
       "</div>"
      ],
      "text/plain": [
       "   idBulan         pagu              metode  \\\n",
       "0       10     23000000        E-Purchasing   \n",
       "1        4      5000000  Pengadaan Langsung   \n",
       "2        1     10513000  Pengadaan Langsung   \n",
       "3       12   2000000000        Tender Cepat   \n",
       "4       12    250000000  Pengadaan Langsung   \n",
       "5       12    120000000  Pengadaan Langsung   \n",
       "6       11  47396910000              Tender   \n",
       "7       11      9810000        E-Purchasing   \n",
       "8       11      7100000        E-Purchasing   \n",
       "9       11      1100000        E-Purchasing   \n",
       "\n",
       "                                                nama  \\\n",
       "0                    Pengadaan Lemari Besi Fireproof   \n",
       "1                            Pengadaan Kursi Pejabat   \n",
       "2                          Belanja Bahan Pakai Habis   \n",
       "3                       Pengadaan Malware Detonation   \n",
       "4                             Belanja Smart Card PKB   \n",
       "5                     Pengadaan Frame Acrilik Poster   \n",
       "6  Pembangunan IPA Kapasitas  50 l/dt SPAM KSPN T...   \n",
       "7                   Belanja Modal Pengadaan Komputer   \n",
       "8                     Belanja Modal pengadaan laptop   \n",
       "9                     Belanja Modal Hardis Eksternal   \n",
       "\n",
       "                                              kldi  \\\n",
       "0                             Kementerian Keuangan   \n",
       "1         Pemerintah Daerah Kabupaten Buton Tengah   \n",
       "2                     Pemerintah Daerah Kota Depok   \n",
       "3       Kementerian Hukum Dan Hak Asasi Manusia RI   \n",
       "4               Pemerintah Daerah Kabupaten Bantul   \n",
       "5                            Kementerian Kesehatan   \n",
       "6  Kementerian Pekerjaan Umum dan Perumahan Rakyat   \n",
       "7      Pemerintah Daerah Provinsi D. I. Yogyakarta   \n",
       "8      Pemerintah Daerah Provinsi D. I. Yogyakarta   \n",
       "9      Pemerintah Daerah Provinsi D. I. Yogyakarta   \n",
       "\n",
       "                       lokasi                   jenis          waktu  \\\n",
       "0                         NaN                  Barang   October 2023   \n",
       "1                         NaN                  Barang     April 2023   \n",
       "2                         NaN                  Barang   January 2021   \n",
       "3                         NaN                  Barang  December 2020   \n",
       "4                         NaN                  Barang  December 2020   \n",
       "5                         NaN                  Barang  December 2020   \n",
       "6  Banten~Pandeglang (Kab.),   Pekerjaan Konstruksi,   November 2020   \n",
       "7                         NaN                  Barang  November 2020   \n",
       "8                         NaN                  Barang  November 2020   \n",
       "9                         NaN                  Barang  November 2020   \n",
       "\n",
       "   idMetode        id  idJenisPengadaan  \\\n",
       "0         9  22319671                 1   \n",
       "1         8  20854093                 1   \n",
       "2         8  20376353                 1   \n",
       "3        14  22726379                 1   \n",
       "4         8  22764274                 1   \n",
       "5         8  22867952                 1   \n",
       "6        13  22742317                 0   \n",
       "7         9  22599967                 1   \n",
       "8         9  22600005                 1   \n",
       "9         9  22600070                 1   \n",
       "\n",
       "                                        satuan_kerja  \n",
       "0  DIREKTORAT JENDERAL PENGELOLAAN PEMBIAYAAN DAN...  \n",
       "1  DINAS KOMUNIKASI INFORMATIKA STATISTIK DAN PER...  \n",
       "2     DINAS KETAHANAN PANGAN PERTANIAN DAN PERIKANAN  \n",
       "3        DIREKTORAT JENDERAL ADMINISTRASI HUKUM UMUM  \n",
       "4                                  Dinas Perhubungan  \n",
       "5  SEKRETARIAT DIREKTORAT JENDERAL PELAYANAN KESE...  \n",
       "6   PELAKSANAAN PRASARANA PERMUKIMAN PROVINSI BANTEN  \n",
       "7              DINAS PENDIDIKAN PEMUDA DAN OLAH RAGA  \n",
       "8              DINAS PENDIDIKAN PEMUDA DAN OLAH RAGA  \n",
       "9              DINAS PENDIDIKAN PEMUDA DAN OLAH RAGA  "
      ]
     },
     "execution_count": 90,
     "metadata": {},
     "output_type": "execute_result"
    }
   ],
   "source": [
    "\n",
    "d = pd.read_csv('sirup.csv')\n",
    "d"
   ]
  },
  {
   "cell_type": "code",
   "execution_count": 92,
   "metadata": {},
   "outputs": [
    {
     "data": {
      "text/plain": [
       "Index(['idBulan', 'pagu', 'metode', 'nama', 'kldi', 'lokasi', 'jenis', 'waktu',\n",
       "       'idMetode', 'id', 'idJenisPengadaan', 'satuan_kerja'],\n",
       "      dtype='object')"
      ]
     },
     "execution_count": 92,
     "metadata": {},
     "output_type": "execute_result"
    }
   ],
   "source": [
    "d.columns"
   ]
  },
  {
   "cell_type": "code",
   "execution_count": null,
   "metadata": {},
   "outputs": [],
   "source": []
  }
 ],
 "metadata": {
  "kernelspec": {
   "display_name": "Python 3",
   "language": "python",
   "name": "python3"
  },
  "language_info": {
   "codemirror_mode": {
    "name": "ipython",
    "version": 3
   },
   "file_extension": ".py",
   "mimetype": "text/x-python",
   "name": "python",
   "nbconvert_exporter": "python",
   "pygments_lexer": "ipython3",
   "version": "3.7.5"
  }
 },
 "nbformat": 4,
 "nbformat_minor": 2
}
